{
 "cells": [
  {
   "cell_type": "markdown",
   "metadata": {},
   "source": [
    "## Assignment 8\n",
    "## Gowri Govindaraj\n",
    "## EP20BTECH11007"
   ]
  },
  {
   "attachments": {},
   "cell_type": "markdown",
   "metadata": {},
   "source": [
    "### Q1"
   ]
  },
  {
   "cell_type": "code",
   "execution_count": 1,
   "metadata": {},
   "outputs": [],
   "source": [
    "import numpy as np\n",
    "import matplotlib.pyplot as plt\n",
    "import pandas as pd\n",
    "import seaborn as sns\n",
    "sns.set_theme()\n",
    "from astroML.correlation import bootstrap_two_point_angular"
   ]
  },
  {
   "cell_type": "code",
   "execution_count": 2,
   "metadata": {},
   "outputs": [],
   "source": [
    "data = pd.read_csv('/Users/gowrigovindaraj/Documents/Class/Sem 6/DSA/A8/BCS05hr_reduced.txt', sep = '\\s+')"
   ]
  },
  {
   "cell_type": "code",
   "execution_count": 3,
   "metadata": {},
   "outputs": [
    {
     "data": {
      "text/html": [
       "<div>\n",
       "<style scoped>\n",
       "    .dataframe tbody tr th:only-of-type {\n",
       "        vertical-align: middle;\n",
       "    }\n",
       "\n",
       "    .dataframe tbody tr th {\n",
       "        vertical-align: top;\n",
       "    }\n",
       "\n",
       "    .dataframe thead th {\n",
       "        text-align: right;\n",
       "    }\n",
       "</style>\n",
       "<table border=\"1\" class=\"dataframe\">\n",
       "  <thead>\n",
       "    <tr style=\"text-align: right;\">\n",
       "      <th></th>\n",
       "      <th>#RA</th>\n",
       "      <th>DEC</th>\n",
       "      <th>r-mag</th>\n",
       "      <th>spread_model</th>\n",
       "      <th>spread_model_err</th>\n",
       "    </tr>\n",
       "  </thead>\n",
       "  <tbody>\n",
       "    <tr>\n",
       "      <th>0</th>\n",
       "      <td>76.709724</td>\n",
       "      <td>-56.091484</td>\n",
       "      <td>22.2622</td>\n",
       "      <td>0.113884</td>\n",
       "      <td>0.002812</td>\n",
       "    </tr>\n",
       "    <tr>\n",
       "      <th>1</th>\n",
       "      <td>77.430664</td>\n",
       "      <td>-56.090149</td>\n",
       "      <td>23.8355</td>\n",
       "      <td>0.186889</td>\n",
       "      <td>0.003559</td>\n",
       "    </tr>\n",
       "    <tr>\n",
       "      <th>2</th>\n",
       "      <td>76.937309</td>\n",
       "      <td>-56.092442</td>\n",
       "      <td>17.7021</td>\n",
       "      <td>0.000614</td>\n",
       "      <td>0.000120</td>\n",
       "    </tr>\n",
       "    <tr>\n",
       "      <th>3</th>\n",
       "      <td>77.344833</td>\n",
       "      <td>-56.089947</td>\n",
       "      <td>23.7293</td>\n",
       "      <td>0.117396</td>\n",
       "      <td>0.000751</td>\n",
       "    </tr>\n",
       "    <tr>\n",
       "      <th>4</th>\n",
       "      <td>77.416412</td>\n",
       "      <td>-56.089119</td>\n",
       "      <td>23.4456</td>\n",
       "      <td>0.192760</td>\n",
       "      <td>0.004764</td>\n",
       "    </tr>\n",
       "    <tr>\n",
       "      <th>...</th>\n",
       "      <td>...</td>\n",
       "      <td>...</td>\n",
       "      <td>...</td>\n",
       "      <td>...</td>\n",
       "      <td>...</td>\n",
       "    </tr>\n",
       "    <tr>\n",
       "      <th>49995</th>\n",
       "      <td>77.138313</td>\n",
       "      <td>-53.850994</td>\n",
       "      <td>16.4224</td>\n",
       "      <td>0.000928</td>\n",
       "      <td>0.004025</td>\n",
       "    </tr>\n",
       "    <tr>\n",
       "      <th>49996</th>\n",
       "      <td>76.861160</td>\n",
       "      <td>-53.846672</td>\n",
       "      <td>22.1385</td>\n",
       "      <td>0.076647</td>\n",
       "      <td>0.018807</td>\n",
       "    </tr>\n",
       "    <tr>\n",
       "      <th>49997</th>\n",
       "      <td>76.892189</td>\n",
       "      <td>-53.855347</td>\n",
       "      <td>20.5829</td>\n",
       "      <td>0.013071</td>\n",
       "      <td>-0.001716</td>\n",
       "    </tr>\n",
       "    <tr>\n",
       "      <th>49998</th>\n",
       "      <td>77.500732</td>\n",
       "      <td>-53.853760</td>\n",
       "      <td>20.7490</td>\n",
       "      <td>0.017413</td>\n",
       "      <td>-0.000761</td>\n",
       "    </tr>\n",
       "    <tr>\n",
       "      <th>49999</th>\n",
       "      <td>77.139778</td>\n",
       "      <td>-53.854607</td>\n",
       "      <td>21.6471</td>\n",
       "      <td>0.038710</td>\n",
       "      <td>0.059438</td>\n",
       "    </tr>\n",
       "  </tbody>\n",
       "</table>\n",
       "<p>50000 rows × 5 columns</p>\n",
       "</div>"
      ],
      "text/plain": [
       "             #RA        DEC    r-mag  spread_model  spread_model_err\n",
       "0      76.709724 -56.091484  22.2622      0.113884          0.002812\n",
       "1      77.430664 -56.090149  23.8355      0.186889          0.003559\n",
       "2      76.937309 -56.092442  17.7021      0.000614          0.000120\n",
       "3      77.344833 -56.089947  23.7293      0.117396          0.000751\n",
       "4      77.416412 -56.089119  23.4456      0.192760          0.004764\n",
       "...          ...        ...      ...           ...               ...\n",
       "49995  77.138313 -53.850994  16.4224      0.000928          0.004025\n",
       "49996  76.861160 -53.846672  22.1385      0.076647          0.018807\n",
       "49997  76.892189 -53.855347  20.5829      0.013071         -0.001716\n",
       "49998  77.500732 -53.853760  20.7490      0.017413         -0.000761\n",
       "49999  77.139778 -53.854607  21.6471      0.038710          0.059438\n",
       "\n",
       "[50000 rows x 5 columns]"
      ]
     },
     "execution_count": 3,
     "metadata": {},
     "output_type": "execute_result"
    }
   ],
   "source": [
    "data"
   ]
  },
  {
   "cell_type": "code",
   "execution_count": 4,
   "metadata": {},
   "outputs": [],
   "source": [
    "data_sub = data[(data['r-mag'] > 17) & (data['r-mag'] < 20) & (data['spread_model'] > 0.002)]"
   ]
  },
  {
   "cell_type": "code",
   "execution_count": 5,
   "metadata": {},
   "outputs": [],
   "source": [
    "def two_point_correlation(N):\n",
    "    bins = 10 ** np.linspace(np.log10(1.0/60) , np.log10(1) , 16)\n",
    "    results = [bins]\n",
    "    for d in [data]:\n",
    "        results += bootstrap_two_point_angular(data_sub[\"#RA\"] , data_sub[\"DEC\"] , bins = bins, method = \"landy-szalay\" , Nbootstraps = 100)\n",
    "    return results\n",
    "\n",
    "bins, b_corr, b_corr_err, b_bs = two_point_correlation(10)\n",
    "\n",
    "bin_centers = []\n",
    "for idx in range(len(bins)-1):\n",
    "    bin_centers.append((bins[idx] + bins[idx+1])/2)"
   ]
  },
  {
   "cell_type": "code",
   "execution_count": 6,
   "metadata": {},
   "outputs": [
    {
     "data": {
      "image/png": "[encoded data removed]",
      "text/plain": [
       "<Figure size 1000x600 with 1 Axes>"
      ]
     },
     "metadata": {},
     "output_type": "display_data"
    }
   ],
   "source": [
    "plt.figure(figsize = (10,6))\n",
    "plt.xscale('log')\n",
    "plt.yscale('linear')\n",
    "plt.errorbar(bin_centers , b_corr , yerr = b_corr_err, capsize = 3,color = 'black')\n",
    "plt.title(\"Angular Correlation\")\n",
    "plt.xlabel(\"right asc\") \n",
    "plt.ylabel(\"dec\") \n",
    "plt.show()"
   ]
  }
 ],
 "metadata": {
  "kernelspec": {
   "display_name": "Python 3",
   "language": "python",
   "name": "python3"
  },
  "language_info": {
   "codemirror_mode": {
    "name": "ipython",
    "version": 3
   },
   "file_extension": ".py",
   "mimetype": "text/x-python",
   "name": "python",
   "nbconvert_exporter": "python",
   "pygments_lexer": "ipython3",
   "version": "3.9.13"
  },
  "orig_nbformat": 4
 },
 "nbformat": 4,
 "nbformat_minor": 2
}
