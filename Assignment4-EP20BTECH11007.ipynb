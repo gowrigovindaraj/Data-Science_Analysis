{
 "cells": [
  {
   "cell_type": "markdown",
   "metadata": {},
   "source": [
    "## Assignment 4\n",
    "\n",
    "### EP20BTECH11007\n",
    "### Gowri Govindaraj"
   ]
  },
  {
   "cell_type": "markdown",
   "metadata": {},
   "source": [
    "## Q1"
   ]
  },
  {
   "cell_type": "code",
   "execution_count": 138,
   "metadata": {},
   "outputs": [],
   "source": [
    "import numpy as np\n",
    "import matplotlib.pyplot as plt\n",
    "import pandas as pd\n",
    "from scipy import stats\n",
    "from scipy import optimize\n",
    "import seaborn as sns\n",
    "sns.set()"
   ]
  },
  {
   "cell_type": "code",
   "execution_count": 139,
   "metadata": {},
   "outputs": [],
   "source": [
    "data = pd.read_csv('dataa4.dat', sep='\\s+', names=['x', 'y','sigma_y'])"
   ]
  },
  {
   "cell_type": "code",
   "execution_count": 140,
   "metadata": {},
   "outputs": [],
   "source": [
    "X = data['x']\n",
    "Y = data['y']\n",
    "sigma_Y = data['sigma_y']\n"
   ]
  },
  {
   "cell_type": "code",
   "execution_count": 141,
   "metadata": {},
   "outputs": [],
   "source": [
    "def poly_fitting(param,x):\n",
    "    return sum(k*x**n for (n,k) in enumerate(param))\n",
    "\n",
    "def log_likelihood(theta, model= poly_fitting):\n",
    "    X,Y,sigma_Y = data['x'],data['y'],data['sigma_y']\n",
    "    Y_fit = model(theta, X)\n",
    "    return sum(stats.norm.logpdf(*args) for args in zip(Y, Y_fit, sigma_Y))\n",
    "\n",
    "def theta_fit(deg, model= poly_fitting):\n",
    "    theta_0 = [0] * (deg + 1)\n",
    "    neg_logLH = lambda theta: - log_likelihood(theta)\n",
    "    return optimize.fmin_bfgs(neg_logLH, theta_0, disp=False)\n",
    "\n",
    "\n",
    "def compute_chi2(deg):\n",
    "    X,Y,sigma_Y = data['x'],data['y'],data['sigma_y']\n",
    "    theta = theta_fit(deg)\n",
    "    val = (Y - poly_fitting(theta, X)) / sigma_Y\n",
    "    return np.sum(val ** 2)\n",
    "\n",
    "def dof(deg):\n",
    "    n = len(data)\n",
    "    return n - deg - 1\n",
    "\n",
    "def chi_2_likelihood(deg):\n",
    "    return stats.chi2(dof(deg)).pdf(compute_chi2(deg))\n"
   ]
  },
  {
   "cell_type": "code",
   "execution_count": 143,
   "metadata": {},
   "outputs": [],
   "source": [
    "\n",
    "def log_likelihood(param):\n",
    "    y_fit = poly_fitting(param, X)\n",
    "    return sum(stats.norm.logpdf(*args) for args in zip(Y, y_fit, sigma_Y))\n",
    "\n",
    "def aic(deg, param, data):\n",
    "    return 2*(deg + 1) - 2*log_likelihood(param)\n",
    "\n",
    "def bic(deg, param, data):\n",
    "    n = len(data)\n",
    "    return (deg + 1)*np.log(n) - 2*log_likelihood(param)\n",
    "\n",
    "def aicc(deg, param, data):\n",
    "    n = len(data)\n",
    "    return aic(deg, param, data) + (2*(deg + 1)*(deg + 2))/(n - deg - 2)\n",
    "\n",
    "def error(deg, param, data):\n",
    "    x = data['x']\n",
    "    y = data['y']\n",
    "    sigma_y = data['sigma_y']\n",
    "    y_fit = poly_fitting(param, X)\n",
    "    return sum(((Y - y_fit)/sigma_Y))\n",
    "\n",
    "def chi2(deg, param, data):\n",
    "    chi = error(deg, param, data)\n",
    "    return np.sum(chi**2)\n",
    "\n",
    "def dof(deg, param, data):\n",
    "    n = len(data)\n",
    "    return n - deg - 1\n",
    "\n",
    "def chi_2_likelihood(deg, param, data):\n",
    "    chi_2 = chi2(deg, param, data)\n",
    "    dof_ = dof(deg, param, data)\n",
    "    return stats.chi2.logpdf(chi_2, dof_)\n"
   ]
  },
  {
   "cell_type": "code",
   "execution_count": 145,
   "metadata": {},
   "outputs": [],
   "source": [
    "linear,h = optimize.curve_fit(poly_fitting(1,X), X, Y, sigma=sigma_Y)\n",
    "quadratic,h = optimize.curve_fit(poly_fitting(2,X), X, Y, sigma=sigma_Y)\n",
    "cubic,h = optimize.curve_fit(poly_fitting(3,X), X, Y, sigma=sigma_Y)\n",
    "\n",
    "error_linear = error(1, linear, data)\n",
    "error_quadratic = error(2, quadratic, data)\n",
    "error_cubic = error(3, cubic, data)\n",
    "\n",
    "p_quadratic = 1-stats.chi2(1).cdf(stats.chi2(len(X)-2).pdf(np.sum(error_linear**2))- stats.chi2(len(X)-3).pdf(np.sum(error_quadratic**2)))\n",
    "p_cubic = 1-stats.chi2(2).cdf(stats.chi2(len(X)-3).pdf(np.sum(error_linear**2))- stats.chi2(len(X)-4).pdf(np.sum(error_cubic**2)))\n"
   ]
  },
  {
   "cell_type": "code",
   "execution_count": 142,
   "metadata": {},
   "outputs": [
    {
     "name": "stdout",
     "output_type": "stream",
     "text": [
      "Chi square value for degree 1 is 0.045383795585920046\n",
      "Chi square value for degree 2 is 0.036608447550141865\n",
      "Chi square value for degree 3 is 0.0421528060101459\n"
     ]
    }
   ],
   "source": [
    "print(\"Chi square value for degree 1 is\", chi_2_likelihood(1))\n",
    "print(\"Chi square value for degree 2 is\", chi_2_likelihood(2))\n",
    "print(\"Chi square value for degree 3 is\", chi_2_likelihood(3))"
   ]
  },
  {
   "cell_type": "markdown",
   "metadata": {},
   "source": [
    "The linear model is preferred, as the likelihood is maximum"
   ]
  },
  {
   "cell_type": "code",
   "execution_count": 149,
   "metadata": {},
   "outputs": [
    {
     "name": "stdout",
     "output_type": "stream",
     "text": [
      "AIC for linear fit is -40.03668681607268\n",
      "AIC for quadratic fit is -39.849820624005595\n",
      "AIC for cubic fit is -38.26081851760259\n",
      "\n",
      "\n",
      "BIC for linear fit is -38.0452222689647\n",
      "BIC for quadratic fit is -36.862623803343624\n",
      "BIC for cubic fit is -34.277889423386625\n",
      "\n",
      "\n",
      "AICc for linear fit is -39.33080446313151\n",
      "AICc for quadratic fit is -38.349820624005595\n",
      "AICc for cubic fit is -35.59415185093592\n",
      "\n",
      "\n",
      "p value for quadratic fit is 0.9253658781854528\n",
      "p value for cubic fit is 0.9983858094213665\n"
     ]
    }
   ],
   "source": [
    "print(\"AIC for linear fit is\", aic(1, linear, data))\n",
    "print(\"AIC for quadratic fit is\", aic(2, quadratic, data))\n",
    "print(\"AIC for cubic fit is\", aic(3, cubic, data))\n",
    "\n",
    "print(\"\\n\\nBIC for linear fit is\", bic(1, linear, data))\n",
    "print(\"BIC for quadratic fit is\", bic(2, quadratic, data))\n",
    "print(\"BIC for cubic fit is\", bic(3, cubic, data))\n",
    "\n",
    "print(\"\\n\\nAICc for linear fit is\", aicc(1, linear, data))\n",
    "print(\"AICc for quadratic fit is\", aicc(2, quadratic, data))\n",
    "print(\"AICc for cubic fit is\", aicc(3, cubic, data))\n",
    "\n",
    "print(\"\\n\\np value for quadratic fit is\", p_quadratic)\n",
    "print(\"p value for cubic fit is\", p_cubic)\n"
   ]
  },
  {
   "attachments": {},
   "cell_type": "markdown",
   "metadata": {},
   "source": [
    "Minimum values of AIC and BIC $\\implies$ Linear model is preferred"
   ]
  },
  {
   "cell_type": "code",
   "execution_count": null,
   "metadata": {},
   "outputs": [
    {
     "data": {
      "image/png": "[encoded data removed]",
      "text/plain": [
       "<Figure size 640x480 with 1 Axes>"
      ]
     },
     "metadata": {},
     "output_type": "display_data"
    }
   ],
   "source": [
    "x = np.linspace(0, 1, 1000)\n",
    "\n",
    "plt.errorbar(X, Y, yerr=sigma_Y, fmt='o', label='Data')\n",
    "plt.plot(x, linear_fit(x, *linear), label='Linear fit')\n",
    "plt.plot(x, quadratic_fit(x, *quadratic), label='Quadratic fit')\n",
    "plt.plot(x, cubic_fit(x, *cubic), label='Cubic fit')\n",
    "plt.xlabel('x')\n",
    "plt.ylabel('y')\n",
    "plt.legend()\n",
    "plt.title('Data and fits')\n",
    "plt.show()"
   ]
  },
  {
   "cell_type": "markdown",
   "metadata": {},
   "source": [
    "## Q2"
   ]
  },
  {
   "cell_type": "code",
   "execution_count": 59,
   "metadata": {},
   "outputs": [],
   "source": [
    "jdvp = pd.read_csv('/Users/gowrigovindaraj/Documents/Class/Sem 6/DSA/A4/datajvdp.txt',header=None).T\n",
    "jdvp.columns = ['x','y','sigma_y']"
   ]
  },
  {
   "cell_type": "code",
   "execution_count": 60,
   "metadata": {},
   "outputs": [],
   "source": [
    "X = jdvp['x']\n",
    "Y = jdvp['y']\n",
    "sigma_Y = jdvp['sigma_y']"
   ]
  },
  {
   "attachments": {},
   "cell_type": "markdown",
   "metadata": {},
   "source": [
    "Here, the least values are observed in the linear model, $\\therefore $ linear model is preferred."
   ]
  },
  {
   "cell_type": "markdown",
   "metadata": {},
   "source": [
    "## Q3"
   ]
  },
  {
   "attachments": {},
   "cell_type": "markdown",
   "metadata": {},
   "source": [
    "The paper used here is [The Kolmogorov-Smirnov test for three redshift distributions of\n",
    "long gamma-ray bursts in the Swift Era](https://iopscience.iop.org/article/10.1088/1674-4527/9/1/008/meta). \n",
    "\n",
    "The KS test is applied on 5 bins of 3 Gamma Ray Burst distributions, selected from the a small redshift interval. \n",
    "We find that the KS probabilities of one set are huge, suggesting that they arise from the same distribution in these redshift ranges. For another set, the KS probability varies between the different ranges, indicating that the redshift distributions are different, indicating that the two relations are not consistent when calculating the redshift. \n",
    "These are useful for considering the verification of laws like \n",
    "- the V -Liso relation\n",
    "- the τ-Liso relation\n",
    "\n",
    "The one-sample and two-sample KS tests are both used in this study.  Given that the constant is a one-dimensional sample, this does not go against the Penn State University warning.\n",
    " \n",
    "Reference:  \n",
    "The Kolmogorov–Smirnov test for three redshift distributions of long gamma-ray bursts in the Swift Era (article)\n",
    "Author: Yun-Ming Dong, and Tan Lu,\n",
    "Journal: Research in Astronomy and Astrophysics https://iopscience.iop.org/article/10.1088/1674-4527/9/1/008/meta\n"
   ]
  },
  {
   "cell_type": "markdown",
   "metadata": {},
   "source": [
    "## Q4"
   ]
  },
  {
   "cell_type": "code",
   "execution_count": 62,
   "metadata": {},
   "outputs": [
    {
     "name": "stdout",
     "output_type": "stream",
     "text": [
      "For the Higgs boson discovery claim, \n",
      "The p-values of [0.1, 0.01, 0.001, 1e-05, 1e-07, 1e-09] are [1.28155157 2.32634787 3.09023231 4.26489079 5.19933758 5.99780702].\n",
      "The significance (in terms of no. of σs) is [1.28155157 2.32634787 3.09023231 4.26489079 5.19933758 5.99780702]\n"
     ]
    }
   ],
   "source": [
    "higgs_p_value = [10**-1, 10**-2, 10**-3, 10**-5, 10**-7, 10**-9]\n",
    "higgs_significance = stats.norm.isf(higgs_p_value)\n",
    "print(\"For the Higgs boson discovery claim, \\nThe p-values of {} are {}.\\nThe significance (in terms of no. of \\u03C3s) is {}\".format(higgs_p_value, higgs_significance, higgs_significance))"
   ]
  },
  {
   "cell_type": "code",
   "execution_count": 63,
   "metadata": {},
   "outputs": [
    {
     "name": "stdout",
     "output_type": "stream",
     "text": [
      "For LIGO, the p-value of 2e-07 is 5.068957749717791 and \n",
      "The significance(in terms of no. of σs) is 5.068957749717791\n"
     ]
    }
   ],
   "source": [
    "ligo_p_value = 2*10**-7\n",
    "ligo_significance = stats.norm.isf(ligo_p_value)\n",
    "print(\"For LIGO, the p-value of {} is {} and \\nThe significance(in terms of no. of \\u03C3s) is {}\".format(ligo_p_value, ligo_significance, ligo_significance))"
   ]
  },
  {
   "cell_type": "code",
   "execution_count": 64,
   "metadata": {},
   "outputs": [
    {
     "name": "stdout",
     "output_type": "stream",
     "text": [
      "For Super K, the chi square value is 65.2 and the p-value is 0.5394901931099038\n"
     ]
    }
   ],
   "source": [
    "dof = 67\n",
    "super_k_chi_2 = 65.2\n",
    "super_k_p_value = 1 - stats.chi2(dof).cdf(super_k_chi_2)\n",
    "print(\"For Super K, the chi square value is {} and the p-value is {}\".format(super_k_chi_2, super_k_p_value))"
   ]
  },
  {
   "cell_type": "code",
   "execution_count": null,
   "metadata": {},
   "outputs": [],
   "source": []
  }
 ],
 "metadata": {
  "kernelspec": {
   "display_name": "Python 3",
   "language": "python",
   "name": "python3"
  },
  "language_info": {
   "codemirror_mode": {
    "name": "ipython",
    "version": 3
   },
   "file_extension": ".py",
   "mimetype": "text/x-python",
   "name": "python",
   "nbconvert_exporter": "python",
   "pygments_lexer": "ipython3",
   "version": "3.10.9"
  },
  "orig_nbformat": 4,
  "vscode": {
   "interpreter": {
    "hash": "b0fa6594d8f4cbf19f97940f81e996739fb7646882a419484c72d19e05852a7e"
   }
  }
 },
 "nbformat": 4,
 "nbformat_minor": 2
}
